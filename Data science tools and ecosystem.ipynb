{
 "cells": [
  {
   "cell_type": "markdown",
   "id": "aeeb6dc5",
   "metadata": {},
   "source": [
    "# Data Science Tools and Ecosystem"
   ]
  },
  {
   "cell_type": "markdown",
   "id": "59908231",
   "metadata": {},
   "source": [
    "In this notebook, Data Science Tools and Ecosysytem are summarized"
   ]
  },
  {
   "cell_type": "markdown",
   "id": "6a22bb51",
   "metadata": {},
   "source": [
    "Some of the popular languages that Data Scientists use are:\n",
    "\n",
    " 1. Python\n",
    " 2. R\n",
    " 3. SQL\n",
    " 4. Scala\n",
    " 5. Java\n",
    " 6. C++\n",
    " 7. Julia\n",
    " 8. Javascript\n",
    " 9. Php\n",
    " 10. Go\n",
    " 11. Ruby\n",
    " 12. visual Basic"
   ]
  },
  {
   "cell_type": "markdown",
   "id": "304ed1c3",
   "metadata": {},
   "source": [
    "some of the commonly used libraries used by Data Scientist include:\n",
    "\n",
    "1. Pandas\n",
    "2. Numpy\n",
    "3. Matplotlib\n",
    "4. Seaborn\n",
    "5. Scikit-learn\n",
    "6. Keras\n",
    "7. TensorFlow\n",
    "8. PyTorch\n",
    "9. Apache Spark\n",
    "10. Vegas\n",
    "11. Big DL\n",
    "12. Ggplot2\n"
   ]
  },
  {
   "cell_type": "markdown",
   "id": "b11f5c01",
   "metadata": {},
   "source": [
    "## Data Science Tools\n",
    "\n",
    "    Anaconda\n",
    "    Jupyter Notebook\n",
    "    R Studio\n",
    "    Spyder\n",
    "    Zeppelin                                                 "
   ]
  },
  {
   "cell_type": "markdown",
   "id": "afb9242e",
   "metadata": {},
   "source": [
    "### Below are a few examples of evaluating arithmetic expressions in Python"
   ]
  },
  {
   "cell_type": "code",
   "execution_count": 2,
   "id": "e6308389",
   "metadata": {},
   "outputs": [
    {
     "data": {
      "text/plain": [
       "17"
      ]
     },
     "execution_count": 2,
     "metadata": {},
     "output_type": "execute_result"
    }
   ],
   "source": [
    "# This a sample arithmetic expression to multiply then add integers\n",
    "(3*4)+5"
   ]
  },
  {
   "cell_type": "code",
   "execution_count": 4,
   "id": "e17defd2",
   "metadata": {},
   "outputs": [
    {
     "name": "stdout",
     "output_type": "stream",
     "text": [
      "3hrs and 20mins\n"
     ]
    }
   ],
   "source": [
    "# This will convert 200 minutes to hours by diving by 60\n",
    "a= 200//60\n",
    "b= 200%60\n",
    "\n",
    "print(f\"{a}hrs and {b}mins\")"
   ]
  },
  {
   "cell_type": "markdown",
   "id": "a5c4a762",
   "metadata": {},
   "source": [
    "__Objectives:__\n",
    "* List Popular languages for Data Science\n",
    "* Lisi commonly used libraries used by Data Scientist\n",
    "* Make Tables\n",
    "* Make Airthmetic operations in Python "
   ]
  },
  {
   "cell_type": "markdown",
   "id": "f0420c81",
   "metadata": {},
   "source": [
    "## Author(s)\n",
    "\n",
    "    Vipul Kumar\n",
    "         \n",
    "    Rohan Kumar\n"
   ]
  },
  {
   "cell_type": "code",
   "execution_count": null,
   "id": "537efd19",
   "metadata": {},
   "outputs": [],
   "source": []
  }
 ],
 "metadata": {
  "kernelspec": {
   "display_name": "Python 3 (ipykernel)",
   "language": "python",
   "name": "python3"
  },
  "language_info": {
   "codemirror_mode": {
    "name": "ipython",
    "version": 3
   },
   "file_extension": ".py",
   "mimetype": "text/x-python",
   "name": "python",
   "nbconvert_exporter": "python",
   "pygments_lexer": "ipython3",
   "version": "3.10.9"
  }
 },
 "nbformat": 4,
 "nbformat_minor": 5
}
